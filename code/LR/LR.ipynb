{
 "cells": [
  {
   "cell_type": "code",
   "execution_count": 1,
   "id": "0c8a8a8b",
   "metadata": {},
   "outputs": [],
   "source": [
    "import numpy as np\n",
    "import pandas as pd\n",
    "import torch\n",
    "from torch.utils.data import Dataset, DataLoader, random_split\n",
    "import torch.nn as nn\n",
    "import torch.optim as optim\n",
    "import torch.nn.functional as F"
   ]
  },
  {
   "cell_type": "code",
   "execution_count": 2,
   "id": "56e6fe28",
   "metadata": {},
   "outputs": [],
   "source": [
    "class Dataset(Dataset):\n",
    "    def __init__(self, path, train=True):\n",
    "        self.data = pd.read_csv(path)\n",
    "        self.train = train\n",
    "    \n",
    "    def __len__(self):\n",
    "        \n",
    "        return len(self.data)\n",
    "    \n",
    "    def __getitem__(self, idx):\n",
    "        \n",
    "        if self.train:\n",
    "            (features, label) = (torch.tensor(self.data.drop(columns='is_canceled').loc[idx], dtype=torch.float32),\n",
    "                              torch.tensor(self.data['is_canceled'].loc[idx], dtype=torch.float32))\n",
    "            \n",
    "            return (features, label)\n",
    "        \n",
    "        else:\n",
    "            features = torch.tensor(self.data.loc[idx], dtype=torch.float32)\n",
    "            \n",
    "            return features"
   ]
  },
  {
   "cell_type": "code",
   "execution_count": 3,
   "id": "c7ff609e",
   "metadata": {},
   "outputs": [],
   "source": [
    "# load dataset\n",
    "dataset = Dataset('../../data/train_final.csv')\n",
    "\n",
    "# calculate size for training and validation dataset\n",
    "dataset_size = len(dataset)\n",
    "train_size = int(dataset_size * 0.9)\n",
    "valid_size = dataset_size - train_size\n",
    "\n",
    "# split dataset randomly\n",
    "train_dataset, valid_dataset = random_split(dataset, [train_size, valid_size])\n",
    "\n",
    "# create dataloader\n",
    "train_loader = torch.utils.data.DataLoader(train_dataset, shuffle=True)\n",
    "valid_loader = torch.utils.data.DataLoader(valid_dataset, shuffle=True)"
   ]
  },
  {
   "cell_type": "code",
   "execution_count": 4,
   "id": "578cb5b0",
   "metadata": {},
   "outputs": [],
   "source": [
    "class LogisticRegression(nn.Module):\n",
    "    def __init__(self, n_x, n_y):\n",
    "        super(LogisticRegression, self).__init__()\n",
    "        self.linear = nn.Linear(n_x, n_y)\n",
    "        self.init_param()\n",
    "    \n",
    "    def init_param(self):\n",
    "        seed = 42\n",
    "        torch.manual_seed(seed)\n",
    "        \n",
    "        nn.init.kaiming_normal_(self.linear.weight)\n",
    "        nn.init.zeros_(self.linear.bias)\n",
    "        \n",
    "    def forward(self, x):\n",
    "        z = self.linear(x)\n",
    "        a = torch.sigmoid(z)\n",
    "        \n",
    "        return a"
   ]
  },
  {
   "cell_type": "code",
   "execution_count": 5,
   "id": "a207541a",
   "metadata": {},
   "outputs": [],
   "source": [
    "# define model\n",
    "model = LogisticRegression(8, 1)"
   ]
  },
  {
   "cell_type": "code",
   "execution_count": 6,
   "id": "fff507b3",
   "metadata": {},
   "outputs": [],
   "source": [
    "# define loss function\n",
    "criterion = nn.BCELoss()"
   ]
  },
  {
   "cell_type": "code",
   "execution_count": 7,
   "id": "07a18839",
   "metadata": {},
   "outputs": [],
   "source": [
    "# define optimizer\n",
    "optimizer = optim.SGD(model.parameters(), lr=1e-3)"
   ]
  },
  {
   "cell_type": "code",
   "execution_count": 8,
   "id": "a38d82a5",
   "metadata": {
    "scrolled": false
   },
   "outputs": [
    {
     "name": "stdout",
     "output_type": "stream",
     "text": [
      "Epoch: 0. Average loss: 0.397001. Accuracy: 79.811451\n",
      "Accuracy increased. Saving model...\n",
      "-----------------------------------------------------\n",
      "Epoch: 1. Average loss: 0.140550. Accuracy: 92.136123\n",
      "Accuracy increased. Saving model...\n",
      "-----------------------------------------------------\n",
      "Epoch: 2. Average loss: 1.799639. Accuracy: 77.397103\n",
      "-----------------------------------------------------\n",
      "Epoch: 3. Average loss: 0.109928. Accuracy: 96.458956\n",
      "Accuracy increased. Saving model...\n",
      "-----------------------------------------------------\n",
      "Epoch: 4. Average loss: 6.807484. Accuracy: 76.454357\n",
      "-----------------------------------------------------\n",
      "Epoch: 5. Average loss: 0.036516. Accuracy: 98.850310\n",
      "Accuracy increased. Saving model...\n",
      "-----------------------------------------------------\n",
      "Epoch: 6. Average loss: 0.024270. Accuracy: 99.126236\n",
      "Accuracy increased. Saving model...\n",
      "-----------------------------------------------------\n",
      "Epoch: 7. Average loss: 0.038588. Accuracy: 98.781329\n",
      "-----------------------------------------------------\n",
      "Epoch: 8. Average loss: 0.026682. Accuracy: 99.103242\n",
      "-----------------------------------------------------\n",
      "Epoch: 9. Average loss: 0.023454. Accuracy: 99.126236\n",
      "-----------------------------------------------------\n"
     ]
    }
   ],
   "source": [
    "# train model\n",
    "EPOCHS = 10\n",
    "best_accuracy = 0\n",
    "\n",
    "for epoch in range(EPOCHS):\n",
    "    \n",
    "    for batch in train_loader:\n",
    "        x, y = batch\n",
    "        optimizer.zero_grad()\n",
    "        output = model(x).view(-1)\n",
    "        loss = criterion(output, y)\n",
    "        loss.backward()\n",
    "        optimizer.step()\n",
    "    \n",
    "    test_loss = 0\n",
    "    correct = 0\n",
    "\n",
    "    with torch.no_grad():\n",
    "        for batch in valid_loader:\n",
    "            x, y = batch\n",
    "            output = model(x).view(-1)\n",
    "            test_loss += criterion(output, y)\n",
    "            predict = (output >= 0.5)\n",
    "            correct += (predict == y).sum().item()\n",
    "    \n",
    "    test_loss /= len(valid_loader.dataset) \n",
    "    accuracy = (correct / len(valid_loader.dataset)) * 100\n",
    "\n",
    "    print(f\"Epoch: {epoch}. Average loss: {test_loss.item():.6f}. Accuracy: {accuracy:.6f}\")\n",
    "    \n",
    "    if best_accuracy < accuracy:\n",
    "        print(\"Accuracy increased. Saving model...\")\n",
    "        torch.save(model.state_dict(), 'model.pth')\n",
    "        best_accuracy = accuracy\n",
    "        \n",
    "    print(\"-----------------------------------------------------\")"
   ]
  },
  {
   "cell_type": "code",
   "execution_count": 9,
   "id": "98bb0cf2",
   "metadata": {},
   "outputs": [
    {
     "data": {
      "text/plain": [
       "<All keys matched successfully>"
      ]
     },
     "execution_count": 9,
     "metadata": {},
     "output_type": "execute_result"
    }
   ],
   "source": [
    "model = LogisticRegression(8, 1)\n",
    "model.load_state_dict(torch.load('model.pth'))"
   ]
  },
  {
   "cell_type": "code",
   "execution_count": 10,
   "id": "d48ea526",
   "metadata": {},
   "outputs": [],
   "source": [
    "test_dataset = Dataset('../../test_final.csv', False)\n",
    "test_loader = torch.utils.data.DataLoader(test_dataset)"
   ]
  },
  {
   "cell_type": "code",
   "execution_count": 11,
   "id": "44d86f0d",
   "metadata": {},
   "outputs": [],
   "source": [
    "predict = []\n",
    "\n",
    "for features in test_loader:\n",
    "    x = features\n",
    "    output = model(x).view(-1)\n",
    "    \n",
    "    predict.append(0) if output <= 0.5 else predict.append(1)"
   ]
  },
  {
   "cell_type": "code",
   "execution_count": 12,
   "id": "d763f570",
   "metadata": {},
   "outputs": [
    {
     "data": {
      "text/plain": [
       "23525"
      ]
     },
     "execution_count": 12,
     "metadata": {},
     "output_type": "execute_result"
    }
   ],
   "source": [
    "len(predict)"
   ]
  },
  {
   "cell_type": "code",
   "execution_count": 13,
   "id": "280703d2",
   "metadata": {},
   "outputs": [],
   "source": [
    "data = {\n",
    "    'index': range(len(predict)),\n",
    "    'is_canceled': predict\n",
    "}\n",
    "\n",
    "submission = pd.DataFrame(data)"
   ]
  },
  {
   "cell_type": "code",
   "execution_count": 14,
   "id": "704438ee",
   "metadata": {},
   "outputs": [
    {
     "data": {
      "text/html": [
       "<div>\n",
       "<style scoped>\n",
       "    .dataframe tbody tr th:only-of-type {\n",
       "        vertical-align: middle;\n",
       "    }\n",
       "\n",
       "    .dataframe tbody tr th {\n",
       "        vertical-align: top;\n",
       "    }\n",
       "\n",
       "    .dataframe thead th {\n",
       "        text-align: right;\n",
       "    }\n",
       "</style>\n",
       "<table border=\"1\" class=\"dataframe\">\n",
       "  <thead>\n",
       "    <tr style=\"text-align: right;\">\n",
       "      <th></th>\n",
       "      <th>index</th>\n",
       "      <th>is_canceled</th>\n",
       "    </tr>\n",
       "  </thead>\n",
       "  <tbody>\n",
       "    <tr>\n",
       "      <th>0</th>\n",
       "      <td>0</td>\n",
       "      <td>1</td>\n",
       "    </tr>\n",
       "    <tr>\n",
       "      <th>1</th>\n",
       "      <td>1</td>\n",
       "      <td>0</td>\n",
       "    </tr>\n",
       "    <tr>\n",
       "      <th>2</th>\n",
       "      <td>2</td>\n",
       "      <td>1</td>\n",
       "    </tr>\n",
       "    <tr>\n",
       "      <th>3</th>\n",
       "      <td>3</td>\n",
       "      <td>0</td>\n",
       "    </tr>\n",
       "    <tr>\n",
       "      <th>4</th>\n",
       "      <td>4</td>\n",
       "      <td>1</td>\n",
       "    </tr>\n",
       "    <tr>\n",
       "      <th>...</th>\n",
       "      <td>...</td>\n",
       "      <td>...</td>\n",
       "    </tr>\n",
       "    <tr>\n",
       "      <th>23520</th>\n",
       "      <td>23520</td>\n",
       "      <td>0</td>\n",
       "    </tr>\n",
       "    <tr>\n",
       "      <th>23521</th>\n",
       "      <td>23521</td>\n",
       "      <td>0</td>\n",
       "    </tr>\n",
       "    <tr>\n",
       "      <th>23522</th>\n",
       "      <td>23522</td>\n",
       "      <td>0</td>\n",
       "    </tr>\n",
       "    <tr>\n",
       "      <th>23523</th>\n",
       "      <td>23523</td>\n",
       "      <td>1</td>\n",
       "    </tr>\n",
       "    <tr>\n",
       "      <th>23524</th>\n",
       "      <td>23524</td>\n",
       "      <td>0</td>\n",
       "    </tr>\n",
       "  </tbody>\n",
       "</table>\n",
       "<p>23525 rows × 2 columns</p>\n",
       "</div>"
      ],
      "text/plain": [
       "       index  is_canceled\n",
       "0          0            1\n",
       "1          1            0\n",
       "2          2            1\n",
       "3          3            0\n",
       "4          4            1\n",
       "...      ...          ...\n",
       "23520  23520            0\n",
       "23521  23521            0\n",
       "23522  23522            0\n",
       "23523  23523            1\n",
       "23524  23524            0\n",
       "\n",
       "[23525 rows x 2 columns]"
      ]
     },
     "execution_count": 14,
     "metadata": {},
     "output_type": "execute_result"
    }
   ],
   "source": [
    "submission"
   ]
  },
  {
   "cell_type": "code",
   "execution_count": 15,
   "id": "762eaabc",
   "metadata": {},
   "outputs": [],
   "source": [
    "submission.to_csv('submission.csv', index=False)"
   ]
  }
 ],
 "metadata": {
  "kernelspec": {
   "display_name": "Python 3 (ipykernel)",
   "language": "python",
   "name": "python3"
  },
  "language_info": {
   "codemirror_mode": {
    "name": "ipython",
    "version": 3
   },
   "file_extension": ".py",
   "mimetype": "text/x-python",
   "name": "python",
   "nbconvert_exporter": "python",
   "pygments_lexer": "ipython3",
   "version": "3.9.7"
  }
 },
 "nbformat": 4,
 "nbformat_minor": 5
}
