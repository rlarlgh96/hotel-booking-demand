{
 "cells": [
  {
   "cell_type": "code",
   "execution_count": 1,
   "id": "d6637506",
   "metadata": {},
   "outputs": [],
   "source": [
    "import pandas as pd"
   ]
  },
  {
   "cell_type": "code",
   "execution_count": 2,
   "id": "7fd410f1",
   "metadata": {},
   "outputs": [],
   "source": [
    "train = pd.read_csv('../../data/train_final.csv')\n",
    "test = pd.read_csv('../../data/test_final.csv')"
   ]
  },
  {
   "cell_type": "code",
   "execution_count": 3,
   "id": "618cd8b0",
   "metadata": {},
   "outputs": [],
   "source": [
    "def solution(df):\n",
    "    answer = []\n",
    "    \n",
    "    for idx in df.index:\n",
    "        \n",
    "        if df.loc[idx,'is_checked_out']:\n",
    "            answer.append(0)     \n",
    "        else:\n",
    "            answer.append(1)\n",
    "                \n",
    "    return answer"
   ]
  },
  {
   "cell_type": "code",
   "execution_count": 4,
   "id": "63b16e64",
   "metadata": {},
   "outputs": [],
   "source": [
    "predict = solution(train)"
   ]
  },
  {
   "cell_type": "code",
   "execution_count": 5,
   "id": "f65b66ca",
   "metadata": {},
   "outputs": [
    {
     "name": "stdout",
     "output_type": "stream",
     "text": [
      "Accuracy: 99.33777879972408\n"
     ]
    }
   ],
   "source": [
    "correct = 0\n",
    "\n",
    "for idx in range(len(predict)):\n",
    "    \n",
    "    if predict[idx] == train.loc[idx,'is_canceled']:\n",
    "        correct += 1\n",
    "\n",
    "print(\"Accuracy:\", correct / len(train) * 100)"
   ]
  },
  {
   "cell_type": "code",
   "execution_count": 6,
   "id": "445f97ad",
   "metadata": {},
   "outputs": [],
   "source": [
    "predict = solution(test)"
   ]
  },
  {
   "cell_type": "code",
   "execution_count": 7,
   "id": "eda88464",
   "metadata": {},
   "outputs": [
    {
     "data": {
      "text/plain": [
       "23525"
      ]
     },
     "execution_count": 7,
     "metadata": {},
     "output_type": "execute_result"
    }
   ],
   "source": [
    "len(predict)"
   ]
  },
  {
   "cell_type": "code",
   "execution_count": 8,
   "id": "7c179660",
   "metadata": {},
   "outputs": [],
   "source": [
    "data = {\n",
    "    'index': range(len(predict)),\n",
    "    'is_canceled': predict\n",
    "}\n",
    "\n",
    "submission = pd.DataFrame(data)"
   ]
  },
  {
   "cell_type": "code",
   "execution_count": 9,
   "id": "7a522148",
   "metadata": {},
   "outputs": [
    {
     "data": {
      "text/html": [
       "<div>\n",
       "<style scoped>\n",
       "    .dataframe tbody tr th:only-of-type {\n",
       "        vertical-align: middle;\n",
       "    }\n",
       "\n",
       "    .dataframe tbody tr th {\n",
       "        vertical-align: top;\n",
       "    }\n",
       "\n",
       "    .dataframe thead th {\n",
       "        text-align: right;\n",
       "    }\n",
       "</style>\n",
       "<table border=\"1\" class=\"dataframe\">\n",
       "  <thead>\n",
       "    <tr style=\"text-align: right;\">\n",
       "      <th></th>\n",
       "      <th>index</th>\n",
       "      <th>is_canceled</th>\n",
       "    </tr>\n",
       "  </thead>\n",
       "  <tbody>\n",
       "    <tr>\n",
       "      <th>0</th>\n",
       "      <td>0</td>\n",
       "      <td>1</td>\n",
       "    </tr>\n",
       "    <tr>\n",
       "      <th>1</th>\n",
       "      <td>1</td>\n",
       "      <td>0</td>\n",
       "    </tr>\n",
       "    <tr>\n",
       "      <th>2</th>\n",
       "      <td>2</td>\n",
       "      <td>1</td>\n",
       "    </tr>\n",
       "    <tr>\n",
       "      <th>3</th>\n",
       "      <td>3</td>\n",
       "      <td>0</td>\n",
       "    </tr>\n",
       "    <tr>\n",
       "      <th>4</th>\n",
       "      <td>4</td>\n",
       "      <td>1</td>\n",
       "    </tr>\n",
       "    <tr>\n",
       "      <th>...</th>\n",
       "      <td>...</td>\n",
       "      <td>...</td>\n",
       "    </tr>\n",
       "    <tr>\n",
       "      <th>23520</th>\n",
       "      <td>23520</td>\n",
       "      <td>0</td>\n",
       "    </tr>\n",
       "    <tr>\n",
       "      <th>23521</th>\n",
       "      <td>23521</td>\n",
       "      <td>0</td>\n",
       "    </tr>\n",
       "    <tr>\n",
       "      <th>23522</th>\n",
       "      <td>23522</td>\n",
       "      <td>0</td>\n",
       "    </tr>\n",
       "    <tr>\n",
       "      <th>23523</th>\n",
       "      <td>23523</td>\n",
       "      <td>1</td>\n",
       "    </tr>\n",
       "    <tr>\n",
       "      <th>23524</th>\n",
       "      <td>23524</td>\n",
       "      <td>0</td>\n",
       "    </tr>\n",
       "  </tbody>\n",
       "</table>\n",
       "<p>23525 rows × 2 columns</p>\n",
       "</div>"
      ],
      "text/plain": [
       "       index  is_canceled\n",
       "0          0            1\n",
       "1          1            0\n",
       "2          2            1\n",
       "3          3            0\n",
       "4          4            1\n",
       "...      ...          ...\n",
       "23520  23520            0\n",
       "23521  23521            0\n",
       "23522  23522            0\n",
       "23523  23523            1\n",
       "23524  23524            0\n",
       "\n",
       "[23525 rows x 2 columns]"
      ]
     },
     "execution_count": 9,
     "metadata": {},
     "output_type": "execute_result"
    }
   ],
   "source": [
    "submission"
   ]
  },
  {
   "cell_type": "code",
   "execution_count": 10,
   "id": "8264a2f4",
   "metadata": {},
   "outputs": [],
   "source": [
    "submission.to_csv('submission.csv', index=False)"
   ]
  }
 ],
 "metadata": {
  "kernelspec": {
   "display_name": "Python 3 (ipykernel)",
   "language": "python",
   "name": "python3"
  },
  "language_info": {
   "codemirror_mode": {
    "name": "ipython",
    "version": 3
   },
   "file_extension": ".py",
   "mimetype": "text/x-python",
   "name": "python",
   "nbconvert_exporter": "python",
   "pygments_lexer": "ipython3",
   "version": "3.9.7"
  }
 },
 "nbformat": 4,
 "nbformat_minor": 5
}
